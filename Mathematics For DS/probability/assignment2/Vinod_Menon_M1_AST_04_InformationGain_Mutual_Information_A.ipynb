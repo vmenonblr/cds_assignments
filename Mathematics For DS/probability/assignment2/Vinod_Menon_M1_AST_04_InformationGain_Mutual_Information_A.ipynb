{
  "nbformat": 4,
  "nbformat_minor": 5,
  "metadata": {
    "kernelspec": {
      "display_name": "Python 3",
      "language": "python",
      "name": "python3"
    },
    "language_info": {
      "codemirror_mode": {
        "name": "ipython",
        "version": 3
      },
      "file_extension": ".py",
      "mimetype": "text/x-python",
      "name": "python",
      "nbconvert_exporter": "python",
      "pygments_lexer": "ipython3",
      "version": "3.6.7rc1"
    },
    "colab": {
      "name": "Vinod_Menon_M1_AST_04_InformationGain_Mutual_Information_A.ipynb",
      "provenance": [],
      "collapsed_sections": []
    }
  },
  "cells": [
    {
      "cell_type": "markdown",
      "metadata": {
        "id": "accepting-emergency"
      },
      "source": [
        "# Advanced Certification Program in Computational Data Science\n",
        "## A program by IISc and TalentSprint\n",
        "### Assignment 4: Information Gain & Mutual Information"
      ],
      "id": "accepting-emergency"
    },
    {
      "cell_type": "markdown",
      "metadata": {
        "id": "developmental-messenger"
      },
      "source": [
        "## Learning Objectives"
      ],
      "id": "developmental-messenger"
    },
    {
      "cell_type": "markdown",
      "metadata": {
        "id": "CTHhyezprdJY"
      },
      "source": [
        "At the end of the experiment, you will be able to\n",
        "\n",
        "* understand the significance of information gain\n",
        "* calculate the entropy of a probability distribution\n",
        "* understand the mutual information and its importance\n",
        "* find the feature with the best information gain from the given set of features"
      ],
      "id": "CTHhyezprdJY"
    },
    {
      "cell_type": "markdown",
      "metadata": {
        "id": "lg3cFE0qrdJc"
      },
      "source": [
        "## Dataset"
      ],
      "id": "lg3cFE0qrdJc"
    },
    {
      "cell_type": "markdown",
      "metadata": {
        "id": "ZCRnMbiUrdJe"
      },
      "source": [
        "### Dataset description\n",
        "\n",
        "The dataset chosen for this assignment is **Mushroom Dataset**. This dataset includes descriptions of hypothetical samples corresponding to 23 species of gilled mushrooms in the Agaricus and Lepiota Family Mushroom drawn from The Audubon Society Field Guide to North American Mushrooms (1981). Each species is identified as definitely edible, definitely poisonous, or of unknown edibility and not recommended.\n",
        "\n",
        "source: https://archive.ics.uci.edu/ml/datasets/mushroom"
      ],
      "id": "ZCRnMbiUrdJe"
    },
    {
      "cell_type": "markdown",
      "metadata": {
        "id": "handy-lawrence"
      },
      "source": [
        "## Information"
      ],
      "id": "handy-lawrence"
    },
    {
      "cell_type": "markdown",
      "metadata": {
        "id": "secondary-internship"
      },
      "source": [
        "**Information Gain**\n",
        "\n",
        "Information Gain measures the reduction in entropy by splitting a dataset according to a given value of a random variable. The largest information gain is equivalent to the smallest entropy.\n",
        "\n",
        "Entropy quantifies how much information there is in a random variable, or more specifically, its probability distribution. A skewed distribution has low entropy, whereas a distribution where events have equal probability has a larger entropy.\n",
        "\n",
        "Information Gain is applied to quantify which feature provides maximal information about the classification based on the notion of entropy, i.e., by quantifying the size of uncertainty, disorder, or impurity, in general, with the intention of decreasing the amount of entropy.\n",
        "\n",
        "**Mutual Information**\n",
        "\n",
        "Mutual information is a quantity that measures a relationship between two\n",
        "random variables that are sampled simultaneously. In particular, it measures\n",
        "how much information is communicated, on average, in one random variable\n",
        "about another.\n",
        "\n",
        "For example, suppose X represents the roll of a fair 6-sided die, and Y\n",
        "represents whether the roll is even. Clearly, the value of Y\n",
        "tells us something about the value of X and vice versa. That is, these variables\n",
        "share mutual information."
      ],
      "id": "secondary-internship"
    },
    {
      "cell_type": "markdown",
      "metadata": {
        "id": "BNLA8HiKxQhc"
      },
      "source": [
        "### Setup Steps:"
      ],
      "id": "BNLA8HiKxQhc"
    },
    {
      "cell_type": "code",
      "metadata": {
        "id": "2YzfoPvJDiTX"
      },
      "source": [
        "#@title Please enter your registration id to start: { run: \"auto\", display-mode: \"form\" }\n",
        "Id = \"2200132\" #@param {type:\"string\"}"
      ],
      "id": "2YzfoPvJDiTX",
      "execution_count": null,
      "outputs": []
    },
    {
      "cell_type": "code",
      "metadata": {
        "id": "AjoZJWGErxGf"
      },
      "source": [
        "#@title Please enter your password (your registered phone number) to continue: { run: \"auto\", display-mode: \"form\" }\n",
        "password = \"9900170510\" #@param {type:\"string\"}"
      ],
      "id": "AjoZJWGErxGf",
      "execution_count": null,
      "outputs": []
    },
    {
      "cell_type": "code",
      "metadata": {
        "id": "WBPPuGmBlDIN",
        "cellView": "form",
        "colab": {
          "base_uri": "https://localhost:8080/",
          "height": 34
        },
        "outputId": "63e1f041-5937-400d-ded9-a6f20976ceb5"
      },
      "source": [
        "#@title Run this cell to complete the setup for this Notebook\n",
        "from IPython import get_ipython\n",
        "\n",
        "ipython = get_ipython()\n",
        "  \n",
        "notebook= \"M1_AST_04_InformationGain_Mutual_Information_A\" #name of the notebook\n",
        "\n",
        "def setup():\n",
        "#  ipython.magic(\"sx pip3 install torch\")  \n",
        "    ipython.magic(\"sx wget https://cdn.iisc.talentsprint.com/CDS/Datasets/mushrooms.csv\")\n",
        "    from IPython.display import HTML, display\n",
        "    display(HTML('<script src=\"https://dashboard.talentsprint.com/aiml/record_ip.html?traineeId={0}&recordId={1}\"></script>'.format(getId(),submission_id)))\n",
        "    print(\"Setup completed successfully\")\n",
        "    return\n",
        "\n",
        "def submit_notebook():\n",
        "    ipython.magic(\"notebook -e \"+ notebook + \".ipynb\")\n",
        "    \n",
        "    import requests, json, base64, datetime\n",
        "\n",
        "    url = \"https://dashboard.talentsprint.com/xp/app/save_notebook_attempts\"\n",
        "    if not submission_id:\n",
        "      data = {\"id\" : getId(), \"notebook\" : notebook, \"mobile\" : getPassword()}\n",
        "      r = requests.post(url, data = data)\n",
        "      r = json.loads(r.text)\n",
        "\n",
        "      if r[\"status\"] == \"Success\":\n",
        "          return r[\"record_id\"]\n",
        "      elif \"err\" in r:        \n",
        "        print(r[\"err\"])\n",
        "        return None        \n",
        "      else:\n",
        "        print (\"Something is wrong, the notebook will not be submitted for grading\")\n",
        "        return None\n",
        "    \n",
        "    elif getAnswer() and getComplexity() and getAdditional() and getConcepts() and getComments() and getMentorSupport():\n",
        "      f = open(notebook + \".ipynb\", \"rb\")\n",
        "      file_hash = base64.b64encode(f.read())\n",
        "\n",
        "      data = {\"complexity\" : Complexity, \"additional\" :Additional, \n",
        "              \"concepts\" : Concepts, \"record_id\" : submission_id, \n",
        "              \"answer\" : Answer, \"id\" : Id, \"file_hash\" : file_hash,\n",
        "              \"notebook\" : notebook,\n",
        "              \"feedback_experiments_input\" : Comments,\n",
        "              \"feedback_mentor_support\": Mentor_support}\n",
        "      r = requests.post(url, data = data)\n",
        "      r = json.loads(r.text)\n",
        "      if \"err\" in r:        \n",
        "        print(r[\"err\"])\n",
        "        return None   \n",
        "      else:\n",
        "        print(\"Your submission is successful.\")\n",
        "        print(\"Ref Id:\", submission_id)\n",
        "        print(\"Date of submission: \", r[\"date\"])\n",
        "        print(\"Time of submission: \", r[\"time\"])\n",
        "        print(\"View your submissions: https://cds.iisc.talentsprint.com/notebook_submissions\")\n",
        "        #print(\"For any queries/discrepancies, please connect with mentors through the chat icon in LMS dashboard.\")\n",
        "        return submission_id\n",
        "    else: submission_id\n",
        "    \n",
        "\n",
        "def getAdditional():\n",
        "  try:\n",
        "    if not Additional: \n",
        "      raise NameError\n",
        "    else:\n",
        "      return Additional  \n",
        "  except NameError:\n",
        "    print (\"Please answer Additional Question\")\n",
        "    return None\n",
        "\n",
        "def getComplexity():\n",
        "  try:\n",
        "    if not Complexity:\n",
        "      raise NameError\n",
        "    else:\n",
        "      return Complexity\n",
        "  except NameError:\n",
        "    print (\"Please answer Complexity Question\")\n",
        "    return None\n",
        "  \n",
        "def getConcepts():\n",
        "  try:\n",
        "    if not Concepts:\n",
        "      raise NameError\n",
        "    else:\n",
        "      return Concepts\n",
        "  except NameError:\n",
        "    print (\"Please answer Concepts Question\")\n",
        "    return None\n",
        "  \n",
        "  \n",
        "# def getWalkthrough():\n",
        "#   try:\n",
        "#     if not Walkthrough:\n",
        "#       raise NameError\n",
        "#     else:\n",
        "#       return Walkthrough\n",
        "#   except NameError:\n",
        "#     print (\"Please answer Walkthrough Question\")\n",
        "#     return None\n",
        "  \n",
        "def getComments():\n",
        "  try:\n",
        "    if not Comments:\n",
        "      raise NameError\n",
        "    else:\n",
        "      return Comments\n",
        "  except NameError:\n",
        "    print (\"Please answer Comments Question\")\n",
        "    return None\n",
        "  \n",
        "\n",
        "def getMentorSupport():\n",
        "  try:\n",
        "    if not Mentor_support:\n",
        "      raise NameError\n",
        "    else:\n",
        "      return Mentor_support\n",
        "  except NameError:\n",
        "    print (\"Please answer Mentor support Question\")\n",
        "    return None\n",
        "\n",
        "def getAnswer():\n",
        "  try:\n",
        "    if not Answer:\n",
        "      raise NameError \n",
        "    else: \n",
        "      return Answer\n",
        "  except NameError:\n",
        "    print (\"Please answer Question\")\n",
        "    return None\n",
        "  \n",
        "\n",
        "def getId():\n",
        "  try: \n",
        "    return Id if Id else None\n",
        "  except NameError:\n",
        "    return None\n",
        "\n",
        "def getPassword():\n",
        "  try:\n",
        "    return password if password else None\n",
        "  except NameError:\n",
        "    return None\n",
        "\n",
        "submission_id = None\n",
        "### Setup \n",
        "if getPassword() and getId():\n",
        "  submission_id = submit_notebook()\n",
        "  if submission_id:\n",
        "    setup() \n",
        "else:\n",
        "  print (\"Please complete Id and Password cells before running setup\")\n",
        "\n"
      ],
      "id": "WBPPuGmBlDIN",
      "execution_count": null,
      "outputs": [
        {
          "output_type": "display_data",
          "data": {
            "text/html": [
              "<script src=\"https://dashboard.talentsprint.com/aiml/record_ip.html?traineeId=2200132&recordId=701\"></script>"
            ],
            "text/plain": [
              "<IPython.core.display.HTML object>"
            ]
          },
          "metadata": {
            "tags": []
          }
        },
        {
          "output_type": "stream",
          "text": [
            "Setup completed successfully\n"
          ],
          "name": "stdout"
        }
      ]
    },
    {
      "cell_type": "markdown",
      "metadata": {
        "id": "general-fifteen"
      },
      "source": [
        "#### Importing required packages"
      ],
      "id": "general-fifteen"
    },
    {
      "cell_type": "code",
      "metadata": {
        "id": "phantom-timing"
      },
      "source": [
        "import numpy as np\n",
        "import pandas as pd \n",
        "import math                    # Math Functions\n",
        "from math import log2          # log base 2 function\n",
        "from math import log           # log function\n",
        "from collections import Counter                      # Keeps track of elements and count\n",
        "from sklearn.preprocessing import LabelEncoder       # Encoding the labels\n",
        "from matplotlib import pyplot as plt                 # Visualization"
      ],
      "id": "phantom-timing",
      "execution_count": null,
      "outputs": []
    },
    {
      "cell_type": "markdown",
      "metadata": {
        "id": "placed-integrity"
      },
      "source": [
        "### Entropy"
      ],
      "id": "placed-integrity"
    },
    {
      "cell_type": "markdown",
      "metadata": {
        "id": "equivalent-siemens"
      },
      "source": [
        "It is a metric to measure the uncertainty of a probability distribution. Low entropy means the distribution varies (peaks and valleys). High entropy means the distribution is uniform.\n",
        "\n",
        "![img](https://miro.medium.com/max/400/1*M15RZMSk8nGEyOnD8haF-A.png)\n",
        "\n",
        "From the above figure, the x-axis measures the proportion of data points belonging to the positive class in each bubble, and the y-axis axis measures their respective entropies. Right away, you can see the inverted ‘U’ shape of the graph. Entropy is lowest at the extremes when the bubble either contains no positive instances or only positive instances. That is, when the bubble is pure, the disorder is 0. Entropy is highest in the middle when the bubble is evenly split between positive and negative instances. Extreme disorder because there is no majority."
      ],
      "id": "equivalent-siemens"
    },
    {
      "cell_type": "markdown",
      "metadata": {
        "id": "unnecessary-network"
      },
      "source": [
        "#### Calculating the entropy\n",
        "A dataset with a 50/50 split of samples for the two classes would have a maximum entropy of 1, whereas an imbalanced dataset with a split of 10/90 would have a smaller entropy for a randomly drawn example from the dataset. In a binary classification problem (two classes), we can calculate the entropy of the data sample as follows:\n",
        "\n",
        "Entropy = -(P(0) * log(P(0)) + P(1) * log(P(1)))\n",
        "\n",
        "We can demonstrate this with an example of calculating the entropy for this imbalanced dataset in Python."
      ],
      "id": "unnecessary-network"
    },
    {
      "cell_type": "code",
      "metadata": {
        "id": "terminal-director",
        "colab": {
          "base_uri": "https://localhost:8080/"
        },
        "outputId": "c9e904e4-670f-4756-a295-8fd382087202"
      },
      "source": [
        "# proportion of examples in each class\n",
        "class0 = 10/100\n",
        "class1 = 90/100\n",
        "# calculate entropy\n",
        "entropy = -(class0 * log2(class0) + class1 * log2(class1))\n",
        "# print the result\n",
        "print('entropy: %.3f' % entropy)"
      ],
      "id": "terminal-director",
      "execution_count": null,
      "outputs": [
        {
          "output_type": "stream",
          "text": [
            "entropy: 0.469\n"
          ],
          "name": "stdout"
        }
      ]
    },
    {
      "cell_type": "markdown",
      "metadata": {
        "id": "electronic-elite"
      },
      "source": [
        "We define a function to calculate the entropy of a group of samples based on the ratio of samples that belong to class 0 and class 1."
      ],
      "id": "electronic-elite"
    },
    {
      "cell_type": "code",
      "metadata": {
        "id": "viral-headset"
      },
      "source": [
        "# lets define a function for entropy\n",
        "def class_entropy(class0, class1):\n",
        "    # YOUR CODE HERE\n",
        "    entropy = -(class0 * log2(class0) + class1 * log2(class1))\n",
        "    return entropy"
      ],
      "id": "viral-headset",
      "execution_count": null,
      "outputs": []
    },
    {
      "cell_type": "markdown",
      "metadata": {
        "id": "cubic-ready"
      },
      "source": [
        "Now, consider a dataset with 20 examples, 13 for class 0 and 7 for class 1. We can calculate the entropy for this dataset."
      ],
      "id": "cubic-ready"
    },
    {
      "cell_type": "code",
      "metadata": {
        "id": "fallen-bookmark",
        "colab": {
          "base_uri": "https://localhost:8080/"
        },
        "outputId": "863f51fe-fc77-454d-a3b9-e9fc66476334"
      },
      "source": [
        "# split of the main dataset \n",
        "class0 = 13 / 20\n",
        "class1 = 7 / 20\n",
        "# calculate entropy before the change\n",
        "s_entropy = class_entropy(class0, class1)\n",
        "s_entropy"
      ],
      "id": "fallen-bookmark",
      "execution_count": null,
      "outputs": [
        {
          "output_type": "execute_result",
          "data": {
            "text/plain": [
              "0.9340680553754911"
            ]
          },
          "metadata": {
            "tags": []
          },
          "execution_count": 7
        }
      ]
    },
    {
      "cell_type": "markdown",
      "metadata": {
        "id": "thorough-summer"
      },
      "source": [
        "Let’s assume that we have a group of eight samples, seven for class 0 and one for class 1. We can then calculate the entropy of this group of samples."
      ],
      "id": "thorough-summer"
    },
    {
      "cell_type": "code",
      "metadata": {
        "id": "sweet-edgar",
        "colab": {
          "base_uri": "https://localhost:8080/"
        },
        "outputId": "833046f7-fccb-4c2c-f55c-93f5dcbcb56b"
      },
      "source": [
        "# split 1: group 1\n",
        "s1_class0 = 7 / 8\n",
        "s1_class1 = 1 / 8\n",
        "# calculate the entropy of the first group\n",
        "s1_entropy = class_entropy(s1_class0, s1_class1)\n",
        "print('Group1 Entropy: %.3f' % s1_entropy)"
      ],
      "id": "sweet-edgar",
      "execution_count": null,
      "outputs": [
        {
          "output_type": "stream",
          "text": [
            "Group1 Entropy: 0.544\n"
          ],
          "name": "stdout"
        }
      ]
    },
    {
      "cell_type": "markdown",
      "metadata": {
        "id": "understanding-departure"
      },
      "source": [
        "Now, let’s assume that we have a group of 12 samples with six in each group. We would expect this group to have an entropy of 1."
      ],
      "id": "understanding-departure"
    },
    {
      "cell_type": "code",
      "metadata": {
        "id": "assumed-aberdeen",
        "colab": {
          "base_uri": "https://localhost:8080/"
        },
        "outputId": "845f436b-d360-4f14-9ccf-dfe6cb55c5ba"
      },
      "source": [
        "# split 2: group 2\n",
        "s2_class0 = 6 / 12\n",
        "s2_class1 = 6 / 12\n",
        "# calculate the entropy of the second group\n",
        "# YOUR CODE HERE to create s2_entropy \n",
        "s2_entropy = class_entropy(s2_class0, s2_class1)\n",
        "print('Group2 Entropy: %.3f' % s2_entropy)"
      ],
      "id": "assumed-aberdeen",
      "execution_count": null,
      "outputs": [
        {
          "output_type": "stream",
          "text": [
            "Group2 Entropy: 1.000\n"
          ],
          "name": "stdout"
        }
      ]
    },
    {
      "cell_type": "markdown",
      "metadata": {
        "id": "marine-remedy"
      },
      "source": [
        "### Information gain"
      ],
      "id": "marine-remedy"
    },
    {
      "cell_type": "markdown",
      "metadata": {
        "id": "hollywood-founder"
      },
      "source": [
        "Finally, we can calculate the information gain based on the groups created for each value and the calculated entropy.\n",
        "\n",
        "The first group has eight samples, and the second group has the remaining 12 samples in the data set. Therefore, we have everything we need to calculate the information gain.\n",
        "\n",
        "In this case, information gain can be calculated as:\n",
        "\n",
        "$Entropy(Dataset) – ({\\frac{Count(Group1)}{Count(Dataset)})*Entropy(Group1)}  +  ({\\frac{Count(Group2)}{Count(Dataset)}) * Entropy(Group2)}$\n",
        "\n",
        "Entropy($\\frac{13}{20}$, $\\frac{7}{20}$) – ($\\frac{8}{20}$ * Entropy($\\frac{7}{8}$, $\\frac{1}{8}$) + $\\frac{12}{20}$ * Entropy($\\frac{6}{12}$, $\\frac{6}{12}$))"
      ],
      "id": "hollywood-founder"
    },
    {
      "cell_type": "code",
      "metadata": {
        "id": "living-contribution",
        "colab": {
          "base_uri": "https://localhost:8080/"
        },
        "outputId": "40dc1247-12e0-4723-f395-dc7852b70b19"
      },
      "source": [
        "# calculate the information gain\n",
        "# YOUR CODE HERE to create gain\n",
        "ds_class0 = 13/20\n",
        "ds_class1 = 7/20\n",
        "\n",
        "g1_class0 = 7/8\n",
        "g1_class1 = 1/8\n",
        "\n",
        "g2_class0 = 6/12\n",
        "g2_class1 = 6/12\n",
        "\n",
        "gain = class_entropy(ds_class0, ds_class1) - ((8/20)*class_entropy(g1_class0, g1_class1) + (12/20)*class_entropy(g2_class0,g2_class1))\n",
        "\n",
        "print('Information Gain: %.3f bits' % gain)"
      ],
      "id": "living-contribution",
      "execution_count": null,
      "outputs": [
        {
          "output_type": "stream",
          "text": [
            "Information Gain: 0.117 bits\n"
          ],
          "name": "stdout"
        }
      ]
    },
    {
      "cell_type": "markdown",
      "metadata": {
        "id": "hindu-awareness"
      },
      "source": [
        "#### Calculating entropy of a probability distribution\n",
        "\n",
        "\n",
        "entropy(p) = − SUM (Pi * log(Pi) )\n",
        "\n",
        "To know more about entropy click [here](http://www.cs.csi.cuny.edu/~imberman/ai/Entropy%20and%20Information%20Gain.htm)"
      ],
      "id": "hindu-awareness"
    },
    {
      "cell_type": "code",
      "metadata": {
        "id": "chronic-purse"
      },
      "source": [
        "# below function returns the Entropy of a probability distribution\n",
        "def entropy_cal(pi):\n",
        "    total = 0\n",
        "    # Iterating the Pi\n",
        "    for p in pi:\n",
        "        print(\"p is \" + str(p))\n",
        "        p = p / sum(pi)\n",
        "        # calculating the total i.e. sum(pi*log(pi))\n",
        "        if p != 0:\n",
        "            # YOUR CODE HERE for total\n",
        "            total = total + (p * log2(p))\n",
        "            print(\"total is \" + str(total))\n",
        "    # applying the negative sign\n",
        "    total *= -1\n",
        "    # YOUR CODE HERE to return total\n",
        "    return total"
      ],
      "id": "chronic-purse",
      "execution_count": null,
      "outputs": []
    },
    {
      "cell_type": "markdown",
      "metadata": {
        "id": "constant-annual"
      },
      "source": [
        "the more **impure** a dataset, the higher the entropy and the less **impure** a dataset, the lower the entropy."
      ],
      "id": "constant-annual"
    },
    {
      "cell_type": "code",
      "metadata": {
        "id": "dress-drawing",
        "colab": {
          "base_uri": "https://localhost:8080/",
          "height": 279
        },
        "outputId": "7e28ad6f-6e1e-400b-ed94-1d64d8dbf586"
      },
      "source": [
        "plt.plot(np.linspace(0.01,1),np.log(np.linspace(0.01,1)))\n",
        "plt.xlabel(\"P(x)\")\n",
        "plt.ylabel(\"log2(P(x))\")\n",
        "plt.show()"
      ],
      "id": "dress-drawing",
      "execution_count": null,
      "outputs": [
        {
          "output_type": "display_data",
          "data": {
            "image/png": "[encoded data removed]",
            "text/plain": [
              "<Figure size 432x288 with 1 Axes>"
            ]
          },
          "metadata": {
            "tags": [],
            "needs_background": "light"
          }
        }
      ]
    },
    {
      "cell_type": "markdown",
      "metadata": {
        "id": "mdjwQZ55Wkpg"
      },
      "source": [
        ""
      ],
      "id": "mdjwQZ55Wkpg"
    },
    {
      "cell_type": "markdown",
      "metadata": {
        "id": "regional-commons"
      },
      "source": [
        "Information gain in above case\n",
        "\n",
        "gain(D, A) = entropy(D)− SUM ( |Di| / |D| * entropy(Di) ), where D is the dataset and A (Di) is the group of the dataset\n",
        "\n",
        "To know more about Information gain click [here](https://datacadamia.com/data_mining/information_gain)"
      ],
      "id": "regional-commons"
    },
    {
      "cell_type": "code",
      "metadata": {
        "id": "buried-siemens"
      },
      "source": [
        "# below function returns the information gain\n",
        "def gain(d, a):\n",
        "    total = 0\n",
        "    print (\"d is\")\n",
        "    print(d)\n",
        "    for v in a:\n",
        "        print(\"v is \" + str(v))\n",
        "        total += sum(v) / sum(d) * entropy_cal(v)\n",
        "    gain = entropy_cal(d) - total\n",
        "    # YOUR CODE HERE to return gain\n",
        "    return gain"
      ],
      "id": "buried-siemens",
      "execution_count": null,
      "outputs": []
    },
    {
      "cell_type": "markdown",
      "metadata": {
        "id": "portuguese-winning"
      },
      "source": [
        "Testing with an example\n",
        "\n",
        "Consider playing tennis under different conditions"
      ],
      "id": "portuguese-winning"
    },
    {
      "cell_type": "code",
      "metadata": {
        "id": "pointed-brisbane"
      },
      "source": [
        "# example (playTennis)\n",
        "\n",
        "# set of example of the dataset\n",
        "playTennis = [9, 5] # Yes, No"
      ],
      "id": "pointed-brisbane",
      "execution_count": null,
      "outputs": []
    },
    {
      "cell_type": "code",
      "metadata": {
        "id": "discrete-colon",
        "colab": {
          "base_uri": "https://localhost:8080/"
        },
        "outputId": "97233c51-2136-436b-c88f-388346a27ab6"
      },
      "source": [
        "# attribute, number of members (feature)\n",
        "outlook = [\n",
        "    [4, 0],  # overcase\n",
        "    [2, 3],  # sunny\n",
        "    [3, 2]   # rain\n",
        "]\n",
        "print(gain(playTennis, outlook))"
      ],
      "id": "discrete-colon",
      "execution_count": null,
      "outputs": [
        {
          "output_type": "stream",
          "text": [
            "d is\n",
            "[9, 5]\n",
            "v is [4, 0]\n",
            "p is 4\n",
            "total is 0.0\n",
            "p is 0\n",
            "v is [2, 3]\n",
            "p is 2\n",
            "total is -0.5287712379549449\n",
            "p is 3\n",
            "total is -0.9709505944546686\n",
            "v is [3, 2]\n",
            "p is 3\n",
            "total is -0.44217935649972373\n",
            "p is 2\n",
            "total is -0.9709505944546686\n",
            "p is 9\n",
            "total is -0.40977637753840174\n",
            "p is 5\n",
            "total is -0.9402859586706309\n",
            "0.2467498197744391\n"
          ],
          "name": "stdout"
        }
      ]
    },
    {
      "cell_type": "code",
      "metadata": {
        "id": "bigger-cement",
        "colab": {
          "base_uri": "https://localhost:8080/"
        },
        "outputId": "e59f1ac9-ceb2-4fbb-8700-05852c28ed6e"
      },
      "source": [
        "temperature = [\n",
        "    [2, 2],  # hot\n",
        "    [3, 1],  # cool\n",
        "    [4, 2]   # mild\n",
        "]\n",
        "print(gain(playTennis, temperature))"
      ],
      "id": "bigger-cement",
      "execution_count": null,
      "outputs": [
        {
          "output_type": "stream",
          "text": [
            "d is\n",
            "[9, 5]\n",
            "v is [2, 2]\n",
            "p is 2\n",
            "total is -0.5\n",
            "p is 2\n",
            "total is -1.0\n",
            "v is [3, 1]\n",
            "p is 3\n",
            "total is -0.31127812445913283\n",
            "p is 1\n",
            "total is -0.8112781244591328\n",
            "v is [4, 2]\n",
            "p is 4\n",
            "total is -0.38997500048077083\n",
            "p is 2\n",
            "total is -0.9182958340544896\n",
            "p is 9\n",
            "total is -0.40977637753840174\n",
            "p is 5\n",
            "total is -0.9402859586706309\n",
            "0.029222565658954647\n"
          ],
          "name": "stdout"
        }
      ]
    },
    {
      "cell_type": "code",
      "metadata": {
        "id": "everyday-thriller",
        "colab": {
          "base_uri": "https://localhost:8080/"
        },
        "outputId": "1654ce80-87e2-4196-c058-8f8d0b67e18f"
      },
      "source": [
        "humidity = [\n",
        "    [3, 4],  # high\n",
        "    [6, 1]   # normal\n",
        "]\n",
        "print(gain(playTennis, humidity))"
      ],
      "id": "everyday-thriller",
      "execution_count": null,
      "outputs": [
        {
          "output_type": "stream",
          "text": [
            "d is\n",
            "[9, 5]\n",
            "v is [3, 4]\n",
            "p is 3\n",
            "total is -0.5238824662870492\n",
            "p is 4\n",
            "total is -0.9852281360342515\n",
            "v is [6, 1]\n",
            "p is 6\n",
            "total is -0.19062207543124116\n",
            "p is 1\n",
            "total is -0.5916727785823275\n",
            "p is 9\n",
            "total is -0.40977637753840174\n",
            "p is 5\n",
            "total is -0.9402859586706309\n",
            "0.15183550136234136\n"
          ],
          "name": "stdout"
        }
      ]
    },
    {
      "cell_type": "code",
      "metadata": {
        "id": "bigger-highlight",
        "colab": {
          "base_uri": "https://localhost:8080/"
        },
        "outputId": "1c883786-2bda-475b-8d60-660920b7f20f"
      },
      "source": [
        "wind = [\n",
        "    [6, 2],  # weak\n",
        "    [3, 3]   # strong\n",
        "]\n",
        "print(gain(playTennis, wind))"
      ],
      "id": "bigger-highlight",
      "execution_count": null,
      "outputs": [
        {
          "output_type": "stream",
          "text": [
            "d is\n",
            "[9, 5]\n",
            "v is [6, 2]\n",
            "p is 6\n",
            "total is -0.31127812445913283\n",
            "p is 2\n",
            "total is -0.8112781244591328\n",
            "v is [3, 3]\n",
            "p is 3\n",
            "total is -0.5\n",
            "p is 3\n",
            "total is -1.0\n",
            "p is 9\n",
            "total is -0.40977637753840174\n",
            "p is 5\n",
            "total is -0.9402859586706309\n",
            "0.04812703040826927\n"
          ],
          "name": "stdout"
        }
      ]
    },
    {
      "cell_type": "markdown",
      "metadata": {
        "id": "seeing-judgment"
      },
      "source": [
        "### Finding the best split using Information gain\n",
        "\n",
        "Consider the mushroom dataset having 22 features for calculating the Information gain and finding the best feature that has the highest gain"
      ],
      "id": "seeing-judgment"
    },
    {
      "cell_type": "code",
      "metadata": {
        "id": "saving-supplier",
        "colab": {
          "base_uri": "https://localhost:8080/",
          "height": 277
        },
        "outputId": "e85ddcb4-f651-406e-ac86-6f1bce081a27"
      },
      "source": [
        "data = pd.read_csv('mushrooms.csv')\n",
        "data.head()"
      ],
      "id": "saving-supplier",
      "execution_count": null,
      "outputs": [
        {
          "output_type": "execute_result",
          "data": {
            "text/html": [
              "<div>\n",
              "<style scoped>\n",
              "    .dataframe tbody tr th:only-of-type {\n",
              "        vertical-align: middle;\n",
              "    }\n",
              "\n",
              "    .dataframe tbody tr th {\n",
              "        vertical-align: top;\n",
              "    }\n",
              "\n",
              "    .dataframe thead th {\n",
              "        text-align: right;\n",
              "    }\n",
              "</style>\n",
              "<table border=\"1\" class=\"dataframe\">\n",
              "  <thead>\n",
              "    <tr style=\"text-align: right;\">\n",
              "      <th></th>\n",
              "      <th>class</th>\n",
              "      <th>cap-shape</th>\n",
              "      <th>cap-surface</th>\n",
              "      <th>cap-color</th>\n",
              "      <th>bruises</th>\n",
              "      <th>odor</th>\n",
              "      <th>gill-attachment</th>\n",
              "      <th>gill-spacing</th>\n",
              "      <th>gill-size</th>\n",
              "      <th>gill-color</th>\n",
              "      <th>stalk-shape</th>\n",
              "      <th>stalk-root</th>\n",
              "      <th>stalk-surface-above-ring</th>\n",
              "      <th>stalk-surface-below-ring</th>\n",
              "      <th>stalk-color-above-ring</th>\n",
              "      <th>stalk-color-below-ring</th>\n",
              "      <th>veil-type</th>\n",
              "      <th>veil-color</th>\n",
              "      <th>ring-number</th>\n",
              "      <th>ring-type</th>\n",
              "      <th>spore-print-color</th>\n",
              "      <th>population</th>\n",
              "      <th>habitat</th>\n",
              "    </tr>\n",
              "  </thead>\n",
              "  <tbody>\n",
              "    <tr>\n",
              "      <th>0</th>\n",
              "      <td>p</td>\n",
              "      <td>x</td>\n",
              "      <td>s</td>\n",
              "      <td>n</td>\n",
              "      <td>t</td>\n",
              "      <td>p</td>\n",
              "      <td>f</td>\n",
              "      <td>c</td>\n",
              "      <td>n</td>\n",
              "      <td>k</td>\n",
              "      <td>e</td>\n",
              "      <td>e</td>\n",
              "      <td>s</td>\n",
              "      <td>s</td>\n",
              "      <td>w</td>\n",
              "      <td>w</td>\n",
              "      <td>p</td>\n",
              "      <td>w</td>\n",
              "      <td>o</td>\n",
              "      <td>p</td>\n",
              "      <td>k</td>\n",
              "      <td>s</td>\n",
              "      <td>u</td>\n",
              "    </tr>\n",
              "    <tr>\n",
              "      <th>1</th>\n",
              "      <td>e</td>\n",
              "      <td>x</td>\n",
              "      <td>s</td>\n",
              "      <td>y</td>\n",
              "      <td>t</td>\n",
              "      <td>a</td>\n",
              "      <td>f</td>\n",
              "      <td>c</td>\n",
              "      <td>b</td>\n",
              "      <td>k</td>\n",
              "      <td>e</td>\n",
              "      <td>c</td>\n",
              "      <td>s</td>\n",
              "      <td>s</td>\n",
              "      <td>w</td>\n",
              "      <td>w</td>\n",
              "      <td>p</td>\n",
              "      <td>w</td>\n",
              "      <td>o</td>\n",
              "      <td>p</td>\n",
              "      <td>n</td>\n",
              "      <td>n</td>\n",
              "      <td>g</td>\n",
              "    </tr>\n",
              "    <tr>\n",
              "      <th>2</th>\n",
              "      <td>e</td>\n",
              "      <td>b</td>\n",
              "      <td>s</td>\n",
              "      <td>w</td>\n",
              "      <td>t</td>\n",
              "      <td>l</td>\n",
              "      <td>f</td>\n",
              "      <td>c</td>\n",
              "      <td>b</td>\n",
              "      <td>n</td>\n",
              "      <td>e</td>\n",
              "      <td>c</td>\n",
              "      <td>s</td>\n",
              "      <td>s</td>\n",
              "      <td>w</td>\n",
              "      <td>w</td>\n",
              "      <td>p</td>\n",
              "      <td>w</td>\n",
              "      <td>o</td>\n",
              "      <td>p</td>\n",
              "      <td>n</td>\n",
              "      <td>n</td>\n",
              "      <td>m</td>\n",
              "    </tr>\n",
              "    <tr>\n",
              "      <th>3</th>\n",
              "      <td>p</td>\n",
              "      <td>x</td>\n",
              "      <td>y</td>\n",
              "      <td>w</td>\n",
              "      <td>t</td>\n",
              "      <td>p</td>\n",
              "      <td>f</td>\n",
              "      <td>c</td>\n",
              "      <td>n</td>\n",
              "      <td>n</td>\n",
              "      <td>e</td>\n",
              "      <td>e</td>\n",
              "      <td>s</td>\n",
              "      <td>s</td>\n",
              "      <td>w</td>\n",
              "      <td>w</td>\n",
              "      <td>p</td>\n",
              "      <td>w</td>\n",
              "      <td>o</td>\n",
              "      <td>p</td>\n",
              "      <td>k</td>\n",
              "      <td>s</td>\n",
              "      <td>u</td>\n",
              "    </tr>\n",
              "    <tr>\n",
              "      <th>4</th>\n",
              "      <td>e</td>\n",
              "      <td>x</td>\n",
              "      <td>s</td>\n",
              "      <td>g</td>\n",
              "      <td>f</td>\n",
              "      <td>n</td>\n",
              "      <td>f</td>\n",
              "      <td>w</td>\n",
              "      <td>b</td>\n",
              "      <td>k</td>\n",
              "      <td>t</td>\n",
              "      <td>e</td>\n",
              "      <td>s</td>\n",
              "      <td>s</td>\n",
              "      <td>w</td>\n",
              "      <td>w</td>\n",
              "      <td>p</td>\n",
              "      <td>w</td>\n",
              "      <td>o</td>\n",
              "      <td>e</td>\n",
              "      <td>n</td>\n",
              "      <td>a</td>\n",
              "      <td>g</td>\n",
              "    </tr>\n",
              "  </tbody>\n",
              "</table>\n",
              "</div>"
            ],
            "text/plain": [
              "  class cap-shape cap-surface  ... spore-print-color population habitat\n",
              "0     p         x           s  ...                 k          s       u\n",
              "1     e         x           s  ...                 n          n       g\n",
              "2     e         b           s  ...                 n          n       m\n",
              "3     p         x           y  ...                 k          s       u\n",
              "4     e         x           s  ...                 n          a       g\n",
              "\n",
              "[5 rows x 23 columns]"
            ]
          },
          "metadata": {
            "tags": []
          },
          "execution_count": 13
        }
      ]
    },
    {
      "cell_type": "markdown",
      "metadata": {
        "id": "diverse-duncan"
      },
      "source": [
        "The idea behind building trees is, finding the best feature to split on that generates the largest information gain or provides the least uncertainty in the following leafs. The 2 most known ways to find these features are:\n",
        "\n",
        "1. Gini Impurity\n",
        "\n",
        "2. Entropy"
      ],
      "id": "diverse-duncan"
    },
    {
      "cell_type": "markdown",
      "metadata": {
        "id": "conventional-crisis"
      },
      "source": [
        "#### Gini Impurity\n",
        "\n",
        "We start at 1 (maximum impurity) and subtract the squared percentage of each label in the data set. As an example, if a data set had 5 items of class (1) and 5 items of class (0), the Gini impurity of the set would be $G=1−(5/10)^2−(5/10)^2$ \n",
        "\n",
        "That is the impurity at any given instance/leaf, to find the Weighted Information Gain, you start with the old (root) Gini Impurity and subtract the sum of all weighted Gini Impurities. The weighted Gini Impurity is the same as the Gini Impurity but multiplied by a ratio (weight) which is the number of data points in the new leaf divided by the number of points in the original root."
      ],
      "id": "conventional-crisis"
    },
    {
      "cell_type": "markdown",
      "metadata": {
        "id": "effective-repeat"
      },
      "source": [
        "![gini_impurity_Example](https://cdn.iisc.talentsprint.com/CDS/Images/Gini_Impurity_Example.JPG)\n",
        "\n",
        "The Weighted Gain for this example  =0.5−(2/10)∗0.5−(5/10)∗0.48−(4/10)∗0.44=0.026"
      ],
      "id": "effective-repeat"
    },
    {
      "cell_type": "markdown",
      "metadata": {
        "id": "brown-surface"
      },
      "source": [
        "Entropy: Similar to the Gini Impurity but follows a different formula for the calculation:\n",
        "![entropy_equation](https://cdn.iisc.talentsprint.com/CDS/Images/Entropy_Equation.JPG)\n",
        "\n",
        "We will still find the information gain, using weighted entropies, and pick the attribute which provided the maximum information gain.\n",
        "\n",
        "![entropy_equation](https://cdn.iisc.talentsprint.com/CDS/Images/Gain_Equation.JPG)"
      ],
      "id": "brown-surface"
    },
    {
      "cell_type": "markdown",
      "metadata": {
        "id": "deadly-fashion"
      },
      "source": [
        "Let's start by creating 2 functions, one that calculates the entropy and one that calculates the information gain."
      ],
      "id": "deadly-fashion"
    },
    {
      "cell_type": "code",
      "metadata": {
        "id": "curious-counter"
      },
      "source": [
        "# below function to calculate the entropy\n",
        "def entropy(labels):\n",
        "    entropy=0\n",
        "    # get the element counts of labels\n",
        "    # YOUR CODE HERE to create label_counts\n",
        "    label_counts = dict(zip(labels, labels.groupby(labels).count()))\n",
        "    for label in label_counts:\n",
        "        prob_of_label = label_counts[label] / len(labels)\n",
        "        entropy -= prob_of_label * math.log2(prob_of_label)\n",
        "    # YOUR CODE HERE to return entropy\n",
        "    return entropy\n",
        "\n",
        "# below function to calculate the information gain\n",
        "def information_gain(starting_labels, split_labels):\n",
        "    # YOUR CODE HERE to create info_gain\n",
        "    info_gain = entropy(starting_labels)\n",
        "    for branched_subset in split_labels:\n",
        "        info_gain -= len(branched_subset) * entropy(branched_subset) / len(starting_labels)\n",
        "    # YOUR CODE HERE to return info_gain\n",
        "    return info_gain"
      ],
      "id": "curious-counter",
      "execution_count": null,
      "outputs": []
    },
    {
      "cell_type": "markdown",
      "metadata": {
        "id": "registered-portrait"
      },
      "source": [
        "Now let's define a function that takes one column at a time and returns list of variants in that column"
      ],
      "id": "registered-portrait"
    },
    {
      "cell_type": "code",
      "metadata": {
        "id": "statutory-seventh"
      },
      "source": [
        "# below function to split each variant records of one column i.e. feature\n",
        "def split(dataset, column):\n",
        "    split_data = []\n",
        "    col_vals = data[column].unique() # This tree generation method only works with discrete values\n",
        "    for col_val in col_vals:\n",
        "        split_data.append(dataset[dataset[column] == col_val])\n",
        "    # YOUR CODE HERE to return split_data\n",
        "    return split_data\n",
        "    "
      ],
      "id": "statutory-seventh",
      "execution_count": null,
      "outputs": []
    },
    {
      "cell_type": "markdown",
      "metadata": {
        "id": "plastic-smoke"
      },
      "source": [
        "Now Let's define a function that integrates all the above defined functions and returns the best feature having the highest information gain"
      ],
      "id": "plastic-smoke"
    },
    {
      "cell_type": "code",
      "metadata": {
        "id": "norman-apollo",
        "colab": {
          "base_uri": "https://localhost:8080/"
        },
        "outputId": "2e9a975f-6f56-4683-b1c7-183a2f9145e7"
      },
      "source": [
        "def find_best_split(dataset):\n",
        "    # YOUR CODE HERE to initialise best_gain with 0\n",
        "    best_gain = 0\n",
        "    # YOUR CODE HERE to initialise best_feature with 0\n",
        "    best_feature = 0\n",
        "    features = list(dataset.columns)\n",
        "    # remove the target\n",
        "    features.remove('class')\n",
        "    for feature in features:\n",
        "        split_data = split(dataset, feature)\n",
        "        # extract labels of each variants in corresponding feature\n",
        "        split_labels = [dataframe['class'] for dataframe in split_data]\n",
        "        gain = information_gain(dataset['class'], split_labels)\n",
        "        if gain > best_gain:\n",
        "            best_gain, best_feature = gain, feature\n",
        "    print(\"best feature: {}  \\ninformation gain: {}\".format(best_feature, best_gain))\n",
        "    return best_feature, best_gain\n",
        "\n",
        "new_data = split(data, find_best_split(data)[0]) # contains a list of dataframes after splitting"
      ],
      "id": "norman-apollo",
      "execution_count": null,
      "outputs": [
        {
          "output_type": "stream",
          "text": [
            "best feature: odor  \n",
            "information gain: 0.92701849879345\n"
          ],
          "name": "stdout"
        }
      ]
    },
    {
      "cell_type": "markdown",
      "metadata": {
        "id": "still-haven"
      },
      "source": [
        "Now, a recursive call is needed to keep finding the best split for every new data subset."
      ],
      "id": "still-haven"
    },
    {
      "cell_type": "markdown",
      "metadata": {
        "id": "super-spoke"
      },
      "source": [
        "### Mutual Information"
      ],
      "id": "super-spoke"
    },
    {
      "cell_type": "markdown",
      "metadata": {
        "id": "faced-laser"
      },
      "source": [
        "It provides a measure of the mutual dependence between two random variables. Let $X$ and $Y$ be random variables with probability distributions $pX$ and $pY$ respectively, and $pX,Y$ the joint probability distribution over $(X,Y)$. The base-b mutual information between $X$ and $Y$ is defined as\n",
        "\n",
        "\\begin{split}I(X;Y) &= \\sum_{x,y} p_{X,Y}(x,y) \\log_b \\frac{p_{X,Y}(x,y)}{p_X(x)p_Y(y)}\\\\\n",
        "       &= H(X) + H(Y) - H(X,Y).\\end{split}"
      ],
      "id": "faced-laser"
    },
    {
      "cell_type": "markdown",
      "metadata": {
        "id": "rough-disability"
      },
      "source": [
        "#### Conditional Entropy\n",
        "\n",
        "The conditional entropy is used to measure the relationship between variables. The following formula gives this measurement:\n",
        "\n",
        "$H(Y \\mid X) = - \\sum_{x} \\sum_{y} p(x, y) \\log_{2} p(y \\mid x)$\n",
        "\n",
        "Let investigate how conditional entropy is related to entropy. Using the above formula, we can conclude that:\n",
        "\n",
        "$ H(Y \\mid X) = H(X, Y) - H(X)$\n",
        "\n",
        "meaning that the information contained in $Y$ given $X$ equals information jointly contained in $X$ and $Y$ minus the amount of information only contained in $X$.\n"
      ],
      "id": "rough-disability"
    },
    {
      "cell_type": "code",
      "metadata": {
        "id": "arabic-vatican",
        "colab": {
          "base_uri": "https://localhost:8080/"
        },
        "outputId": "63d84e70-8779-4b82-9e8b-0e196d427b67"
      },
      "source": [
        "def conditional_entropy(p_xy, p_x):\n",
        "    p_y_given_x = p_xy / p_x\n",
        "    out = np.nansum(-p_xy * np.log2(p_y_given_x))\n",
        "    # YOUR CODE HERE to return out\n",
        "    return out\n",
        "print(conditional_entropy(np.array([[0.1, 0.5], [0.2, 0.3]]), np.array([0.2, 0.8])))"
      ],
      "id": "arabic-vatican",
      "execution_count": null,
      "outputs": [
        {
          "output_type": "stream",
          "text": [
            "0.863547202339972\n"
          ],
          "name": "stdout"
        }
      ]
    },
    {
      "cell_type": "markdown",
      "metadata": {
        "id": "lucky-wayne"
      },
      "source": [
        "To know more about `np.nansum` click [here](https://numpy.org/doc/stable/reference/generated/numpy.nansum.html)"
      ],
      "id": "lucky-wayne"
    },
    {
      "cell_type": "markdown",
      "metadata": {
        "id": "attended-victory"
      },
      "source": [
        "Knowing conditional entropy means knowing the amount of information contained in $Y$ but not in $X$. Now let see how much information is shared between $X$ and $Y$."
      ],
      "id": "attended-victory"
    },
    {
      "cell_type": "markdown",
      "metadata": {
        "id": "bronze-illustration"
      },
      "source": [
        "To find the **mutual information** between two random variables $X$ and $Y$, let start the process by finding all the information in both $X$ and $Y$ together and then subtract the part which is not shared. The information both in $X$ and $Y$ is $H(X,Y)$. Subtracting two conditional entropies gives:  $I(X, Y) = H(X, Y) - H(Y \\mid X) − H(X \\mid Y)$\n",
        "\n",
        "This means that we have to subtract the information only contained in X and Y from all the information at hand. This relationship is perfectly described by this picture from the d2l.\n",
        "\n",
        "![mutual_inf](https://cdn.iisc.talentsprint.com/CDS/Images/JointEntropy.JPG)\n",
        "\n",
        "The concept of mutual information likewise correlation coefficient, allows us to measure the linear relationship between two random variables as well as the amount of maximum information shared between them."
      ],
      "id": "bronze-illustration"
    },
    {
      "cell_type": "code",
      "metadata": {
        "id": "continued-musical",
        "colab": {
          "base_uri": "https://localhost:8080/"
        },
        "outputId": "b524ef07-ca1a-4c32-8563-371f362935d0"
      },
      "source": [
        "def mutual_information(p_xy, p_x, p_y):\n",
        "    p = p_xy / (p_x * p_y)\n",
        "    out = np.nansum(p_xy * np.log2(p))\n",
        "    # YOUR CODE HERE to return out\n",
        "    return out\n",
        "    \n",
        "print(mutual_information(np.array([[0.1, 0.5], [0.1, 0.3]]),\n",
        "                        np.array([0.2, 0.8]),\n",
        "                        np.array([[0.75, 0.25]])))"
      ],
      "id": "continued-musical",
      "execution_count": null,
      "outputs": [
        {
          "output_type": "stream",
          "text": [
            "0.7194602975157967\n"
          ],
          "name": "stdout"
        }
      ]
    },
    {
      "cell_type": "markdown",
      "metadata": {
        "id": "binding-recovery"
      },
      "source": [
        "We can interpret the mutual information I(X,Y) as the average amount of surprisal by seeing two outcomes happening together compared to what we would expect if they were independent."
      ],
      "id": "binding-recovery"
    },
    {
      "cell_type": "markdown",
      "metadata": {
        "id": "4teFhf6usnBx"
      },
      "source": [
        "Mutual information measures the dependency between the variables. It is equal to zero if and only if two random variables are independent, and higher values mean higher dependency.\n",
        "\n",
        "**Note:** We use `mutual_info_classif()` from sklearn.feature_selection"
      ],
      "id": "4teFhf6usnBx"
    },
    {
      "cell_type": "code",
      "metadata": {
        "id": "integral-farmer"
      },
      "source": [
        "# preprocessing - changing the values to numbers with label encoder.\n",
        "from sklearn import preprocessing\n",
        "le = preprocessing.LabelEncoder()\n",
        "def Label_enc(features):\n",
        "    # YOUR CODE HERE\n",
        "    le.fit(features)\n",
        "    return le.transform(features)\n",
        "\n"
      ],
      "id": "integral-farmer",
      "execution_count": null,
      "outputs": []
    },
    {
      "cell_type": "code",
      "metadata": {
        "id": "deluxe-boring"
      },
      "source": [
        "# encoding the all the columns\n",
        "for col in data.columns:\n",
        "    data[str(col)] = Label_enc(data[str(col)])\n"
      ],
      "id": "deluxe-boring",
      "execution_count": null,
      "outputs": []
    },
    {
      "cell_type": "markdown",
      "metadata": {
        "id": "effective-logan"
      },
      "source": [
        "Extract features and target from the dataset"
      ],
      "id": "effective-logan"
    },
    {
      "cell_type": "code",
      "metadata": {
        "id": "ZZSaKhyNvH8f"
      },
      "source": [
        "# YOUR CODE BELOW\n",
        "target = data['class'] #?\n",
        "features = list(data.columns)\n",
        "features.remove('class')\n",
        "features = data[features]\n",
        "target\n",
        "\n"
      ],
      "id": "ZZSaKhyNvH8f",
      "execution_count": null,
      "outputs": []
    },
    {
      "cell_type": "markdown",
      "metadata": {
        "id": "gross-green"
      },
      "source": [
        "Applying `mutual_info_classif` on the data"
      ],
      "id": "gross-green"
    },
    {
      "cell_type": "code",
      "metadata": {
        "id": "engaging-commission"
      },
      "source": [
        "from sklearn.feature_selection import mutual_info_classif\n",
        "mi = mutual_info_classif(features, target) \n",
        "len(mi)\n",
        "mi"
      ],
      "id": "engaging-commission",
      "execution_count": null,
      "outputs": []
    },
    {
      "cell_type": "code",
      "metadata": {
        "id": "legal-humidity",
        "colab": {
          "base_uri": "https://localhost:8080/"
        },
        "outputId": "a1262698-4c57-4612-ce63-517bd0637f70"
      },
      "source": [
        "mi"
      ],
      "id": "legal-humidity",
      "execution_count": null,
      "outputs": [
        {
          "output_type": "execute_result",
          "data": {
            "text/plain": [
              "array([0.03874454, 0.03043113, 0.01924668, 0.13847162, 0.6294273 ,\n",
              "       0.01069266, 0.06263854, 0.15704903, 0.29301489, 0.        ,\n",
              "       0.0888468 , 0.20358375, 0.19651144, 0.16858753, 0.16436547,\n",
              "       0.00707847, 0.01466721, 0.02520293, 0.21767453, 0.33001306,\n",
              "       0.13772733, 0.11035012])"
            ]
          },
          "metadata": {
            "tags": []
          },
          "execution_count": 47
        }
      ]
    },
    {
      "cell_type": "markdown",
      "metadata": {
        "id": "unique-triple"
      },
      "source": [
        "Add columns to the mutual information values"
      ],
      "id": "unique-triple"
    },
    {
      "cell_type": "code",
      "metadata": {
        "id": "million-street"
      },
      "source": [
        "mi = pd.Series(mi)\n",
        "mi.index = features.columns\n"
      ],
      "id": "million-street",
      "execution_count": null,
      "outputs": []
    },
    {
      "cell_type": "markdown",
      "metadata": {
        "id": "first-withdrawal"
      },
      "source": [
        "Let’s observe the Mutual Information with respect to features from the following bar plot."
      ],
      "id": "first-withdrawal"
    },
    {
      "cell_type": "code",
      "metadata": {
        "id": "adjusted-collectible",
        "colab": {
          "base_uri": "https://localhost:8080/"
        },
        "outputId": "805783a9-0e1d-4a74-e71f-b07003716c64"
      },
      "source": [
        "# sort the values in the descending order.\n",
        "# YOUR CODE HERE to sort mi and plot\n",
        "mi.sort_values(ascending=False)\n",
        "mi"
      ],
      "id": "adjusted-collectible",
      "execution_count": null,
      "outputs": [
        {
          "output_type": "execute_result",
          "data": {
            "text/plain": [
              "cap-shape                   0.038745\n",
              "cap-surface                 0.030431\n",
              "cap-color                   0.019247\n",
              "bruises                     0.138472\n",
              "odor                        0.629427\n",
              "gill-attachment             0.010693\n",
              "gill-spacing                0.062639\n",
              "gill-size                   0.157049\n",
              "gill-color                  0.293015\n",
              "stalk-shape                 0.000000\n",
              "stalk-root                  0.088847\n",
              "stalk-surface-above-ring    0.203584\n",
              "stalk-surface-below-ring    0.196511\n",
              "stalk-color-above-ring      0.168588\n",
              "stalk-color-below-ring      0.164365\n",
              "veil-type                   0.007078\n",
              "veil-color                  0.014667\n",
              "ring-number                 0.025203\n",
              "ring-type                   0.217675\n",
              "spore-print-color           0.330013\n",
              "population                  0.137727\n",
              "habitat                     0.110350\n",
              "dtype: float64"
            ]
          },
          "metadata": {
            "tags": []
          },
          "execution_count": 51
        }
      ]
    },
    {
      "cell_type": "markdown",
      "metadata": {
        "id": "polyphonic-relay"
      },
      "source": [
        "**Conclusion**\n",
        "\n",
        "In decision trees, at each stage of the process, we split on the variable that maximizes mutual information with the target value. That is, the variable that reduces the uncertainty about the target the most. Say $Y$ is the target value and we have $X_1,\\cdots,X_p$. Then we check $I(Y;X_1),\\cdots,I(Y;X_p)$. We generally can’t compute these in closed form without knowing the distributions, but we can approximate them using sampling and in some cases other methods: sklearn’s `mutual_info_classif` is one implementation. Once we know the $X_i$ that we want to split on, we need to choose a threshold. We again choose the threshold that maximizes mutual information by minimizing conditional entropy.\n",
        "\n",
        "To know more about the essence of Information gain in Decision tree, click [here](https://victorzhou.com/blog/information-gain/)"
      ],
      "id": "polyphonic-relay"
    },
    {
      "cell_type": "markdown",
      "metadata": {
        "id": "VHfHdGCP_n6Y"
      },
      "source": [
        "### Please answer the questions below to complete the experiment:\n",
        "\n",
        "\n"
      ],
      "id": "VHfHdGCP_n6Y"
    },
    {
      "cell_type": "markdown",
      "metadata": {
        "id": "axq0IexPs6V_"
      },
      "source": [
        "![img](https://cdn.iisc.talentsprint.com/CDS/Images/DataSets_Entropy.JPG)"
      ],
      "id": "axq0IexPs6V_"
    },
    {
      "cell_type": "code",
      "metadata": {
        "id": "VgSwVENIPcM6"
      },
      "source": [
        "# @title Calculate the entropy for dataset 1 and dataset 2 given in above figure ? { run: \"auto\", form-width: \"500px\", display-mode: \"form\" }\n",
        "Answer = \"0 and 1\" #@param [\"\",\"0 and 1\",\"1 and 0\", \"0 and 0\"]"
      ],
      "id": "VgSwVENIPcM6",
      "execution_count": null,
      "outputs": []
    },
    {
      "cell_type": "code",
      "metadata": {
        "id": "NMzKSbLIgFzQ"
      },
      "source": [
        "#@title How was the experiment? { run: \"auto\", form-width: \"500px\", display-mode: \"form\" }\n",
        "Complexity = \"Was Tough, but I did it\" #@param [\"\",\"Too Simple, I am wasting time\", \"Good, But Not Challenging for me\", \"Good and Challenging for me\", \"Was Tough, but I did it\", \"Too Difficult for me\"]\n"
      ],
      "id": "NMzKSbLIgFzQ",
      "execution_count": null,
      "outputs": []
    },
    {
      "cell_type": "code",
      "metadata": {
        "id": "DjcH1VWSFI2l"
      },
      "source": [
        "#@title If it was too easy, what more would you have liked to be added? If it was very difficult, what would you have liked to have been removed? { run: \"auto\", display-mode: \"form\" }\n",
        "Additional = \"I felt concept of entropy and mutual information was explained a bit fast in the class. Needs more discussion\" #@param {type:\"string\"}\n"
      ],
      "id": "DjcH1VWSFI2l",
      "execution_count": null,
      "outputs": []
    },
    {
      "cell_type": "code",
      "metadata": {
        "id": "4VBk_4VTAxCM"
      },
      "source": [
        "#@title Can you identify the concepts from the lecture which this experiment covered? { run: \"auto\", vertical-output: true, display-mode: \"form\" }\n",
        "Concepts = \"Yes\" #@param [\"\",\"Yes\", \"No\"]\n"
      ],
      "id": "4VBk_4VTAxCM",
      "execution_count": null,
      "outputs": []
    },
    {
      "cell_type": "code",
      "metadata": {
        "id": "XH91cL1JWH7m"
      },
      "source": [
        "#@title  Text and image description/explanation and code comments within the experiment: { run: \"auto\", vertical-output: true, display-mode: \"form\" }\n",
        "Comments = \"Not Useful\" #@param [\"\",\"Very Useful\", \"Somewhat Useful\", \"Not Useful\", \"Didn't use\"]\n"
      ],
      "id": "XH91cL1JWH7m",
      "execution_count": null,
      "outputs": []
    },
    {
      "cell_type": "code",
      "metadata": {
        "id": "z8xLqj7VWIKW"
      },
      "source": [
        "#@title Mentor Support: { run: \"auto\", vertical-output: true, display-mode: \"form\" }\n",
        "Mentor_support = \"Didn't use\" #@param [\"\",\"Very Useful\", \"Somewhat Useful\", \"Not Useful\", \"Didn't use\"]\n"
      ],
      "id": "z8xLqj7VWIKW",
      "execution_count": null,
      "outputs": []
    },
    {
      "cell_type": "code",
      "metadata": {
        "id": "FzAZHt1zw-Y-",
        "cellView": "form",
        "colab": {
          "base_uri": "https://localhost:8080/"
        },
        "outputId": "f1cdd306-a61e-4667-fcc9-3861eeb0bb17"
      },
      "source": [
        "#@title Run this cell to submit your notebook for grading { vertical-output: true }\n",
        "try:\n",
        "  if submission_id:\n",
        "      return_id = submit_notebook()\n",
        "      if return_id : submission_id = return_id\n",
        "  else:\n",
        "      print(\"Please complete the setup first.\")\n",
        "except NameError:\n",
        "  print (\"Please complete the setup first.\")"
      ],
      "id": "FzAZHt1zw-Y-",
      "execution_count": null,
      "outputs": [
        {
          "output_type": "stream",
          "text": [
            "Your submission is successful.\n",
            "Ref Id: 701\n",
            "Date of submission:  08 Jul 2021\n",
            "Time of submission:  12:29:43\n",
            "View your submissions: https://cds.iisc.talentsprint.com/notebook_submissions\n"
          ],
          "name": "stdout"
        }
      ]
    }
  ]
}